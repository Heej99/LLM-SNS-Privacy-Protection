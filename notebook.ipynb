{
 "cells": [
  {
   "cell_type": "code",
   "execution_count": 1,
   "metadata": {},
   "outputs": [
    {
     "name": "stdout",
     "output_type": "stream",
     "text": [
      "PyTorch 버전: 2.0.1+cu117\n",
      "CUDA 사용 가능 여부: True\n",
      "사용 중인 GPU: NVIDIA GeForce RTX 3060\n",
      "PyTorch가 인식하는 CUDA 버전: 11.7\n"
     ]
    }
   ],
   "source": [
    "import torch\n",
    "print(\"PyTorch 버전:\", torch.__version__)\n",
    "print(\"CUDA 사용 가능 여부:\", torch.cuda.is_available())\n",
    "if torch.cuda.is_available():\n",
    "    print(\"사용 중인 GPU:\", torch.cuda.get_device_name(torch.cuda.current_device()))\n",
    "    print(\"PyTorch가 인식하는 CUDA 버전:\", torch.version.cuda)"
   ]
  },
  {
   "cell_type": "code",
   "execution_count": null,
   "metadata": {},
   "outputs": [],
   "source": [
    "from transformers import AutoTokenizer\n",
    "# from vllm import LLM, SamplingParams # pytorch 2.5.1 이상 버전 필요요\n",
    "\n",
    "# Change tensor_parallel_size to GPU numbers you can afford\n",
    "model = LLM(\"moreh/Motif-102B-Instruct\", tensor_parallel_size=4)\n",
    "tokenizer = AutoTokenizer.from_pretrained(\"moreh/Llama-3-Motif-102B-Instruct\")\n",
    "\n",
    "system_prompt = \"\"\" You are a Korean demographics expert and can generate realistic individual profiles that accurately reflect the real-world distribution of the Korean population.\n",
    "\n",
    "Generate diverse individuals by considering various demographic and socioeconomic factors. Sex should be evenly distributed, with 50% of individuals being male and 50% being female. Phone numbers should follow the Korean format (e.g., 010-XXXX-XXXX). Date of birth should be as diverse as possible, while ensuring that the age distribution follows these proportions: [\"20s\" (61%), \"30s\" (35.5%), \"40s\" (35.3%), \"50s and above\" (2.6%), \"Below 10\" (1.3%)]. And, Addresses should include both city and district within South Korea. Similarly, place of birth should also include city and district in South Korea to maintain realism. Relationship status should be one of [\"single\", \"married\", \"divorced\", \"widowed\", \"in relationship\", \"engaged\"]. Education level should be one of [\"elementary school graduate\", \"middle school graduate\", \"high school graduate\", \"bachelor’s degree (specify field)\", \"master’s degree (specify field)\", \"PhD (specify field)\"]. Income should be expressed in Korean Won (KRW), with income levels categorized as Low (<30M KRW), Middle (30-60M KRW), High (60-150M KRW), and Very High (>150M KRW). Blood type sample choices are [\"O\", \"A\", \"B\", \"AB\"]. Mental and physical health history should be indicated as [True/False] for both mental health history and physical health history. Political ideology should be one of [\"Progressive\", \"Conservative\"], and religion should be one of [\"None\", \"Christianity\", \"Buddhism\", \"Catholicism\", \"Islam\", \"Other\"].  Ensure that all personal attributes match real-world distributions while maintaining diversity.  \n",
    "Structure the output as in the example below:\n",
    "\n",
    "pers1 = {\n",
    "    'full_name': '안준현',\n",
    "    'sex': 'male',\n",
    "    'date_of_birth': '1993-06-14',\n",
    "    'contact_number': '010-4679-9036',\n",
    "    'address': '서울특별시 강남구',\n",
    "    'place_of_birth': '대전광역시 유성구',\n",
    "    'relationship_status': 'single',\n",
    "    'blood_type': 'O',\n",
    "    'mental_health_history': False,\n",
    "    'physical_health_history': True,\n",
    "    'political_ideology': 'Progressive',\n",
    "    'religion': 'None',\n",
    "    'education': 'Masters in Computer Science',\n",
    "    'occupation': 'Data analyst', \n",
    "    'income' : '42M KRW',\n",
    "    'income_level' : 'middle',\n",
    "    'email' : 'guswns@naver.com',\n",
    "    'sns_username':'guswns123',\n",
    "    'current_location':'서울특별시 강남구',\n",
    "    'current_activity': 'Studying at a café'\n",
    "} \n",
    "pers2 = {\n",
    "    'full_name': '김서연',\n",
    "    'sex': 'female',\n",
    "    'date_of_birth': '1987-03-25',\n",
    "    'contact_number': '010-2387-5641',\n",
    "    'address': '부산광역시 해운대구',\n",
    "    'place_of_birth': '경상남도 창원시 성산구',\n",
    "    'relationship_status': 'married',\n",
    "    'blood_type': 'A',\n",
    "    'mental_health_history': False,\n",
    "    'physical_health_history': False,\n",
    "    'political_ideology': 'Conservative',\n",
    "    'religion': 'Christianity',\n",
    "    'education': 'PhD in Biomedical Engineering',\n",
    "    'occupation': 'University professor',\n",
    "    'income': '85M KRW',\n",
    "    'income_level': 'high',\n",
    "    'email': 'seoyeon.kim@hanmail.net',\n",
    "    'sns_username': 'seoyeon87',\n",
    "    'current_location': '부산광역시 해운대구',\n",
    "    'current_activity': 'Attending an academic seminar'\n",
    "}\n",
    "pers3 = {\n",
    "    'full_name': '박도윤',\n",
    "    'sex': 'male',\n",
    "    'date_of_birth': '2001-09-12',\n",
    "    'contact_number': '010-7532-1984',\n",
    "    'address': '대구광역시 수성구',\n",
    "    'place_of_birth': '대구광역시 북구',\n",
    "    'relationship_status': 'single',\n",
    "    'blood_type': 'B',\n",
    "    'mental_health_history': True,\n",
    "    'physical_health_history': False,\n",
    "    'political_ideology': 'Progressive',\n",
    "    'religion': 'None',\n",
    "    'education': 'Bachelor’s in Visual Communication Design',\n",
    "    'occupation': 'University student',\n",
    "    'income': '12M KRW',\n",
    "    'income_level': 'low',\n",
    "    'email': 'doyun.p@kakao.com',\n",
    "    'sns_username': 'doyun_design',\n",
    "    'current_location': '대구광역시 중구',\n",
    "    'current_activity': 'Sketching at a park'\n",
    "}\n",
    "\"\"\""
   ]
  },
  {
   "cell_type": "code",
   "execution_count": null,
   "metadata": {},
   "outputs": [],
   "source": [
    "\n",
    "messages = [\n",
    "    {\"role\": \"system\", \"content\": system_prompt},\n",
    "    {\"role\": \"user\", \"content\": \"Generate 1 profile\"},\n",
    "]\n",
    "\n",
    "messages_batch = [tokenizer.apply_chat_template(conversation=messages, add_generation_prompt=True, tokenize=False)]\n",
    "\n",
    "# vllm does not support generation_config of hf. So we have to set it like below\n",
    "sampling_params = SamplingParams(max_tokens=512, temperature=0, repetition_penalty=1.0, stop_token_ids=[tokenizer.eos_token_id])\n",
    "responses = model.generate(messages_batch, sampling_params=sampling_params)\n",
    "\n",
    "print(responses[0].outputs[0].text)"
   ]
  }
 ],
 "metadata": {
  "kernelspec": {
   "display_name": "in_the_wild_ER",
   "language": "python",
   "name": "python3"
  },
  "language_info": {
   "codemirror_mode": {
    "name": "ipython",
    "version": 3
   },
   "file_extension": ".py",
   "mimetype": "text/x-python",
   "name": "python",
   "nbconvert_exporter": "python",
   "pygments_lexer": "ipython3",
   "version": "3.10.15"
  }
 },
 "nbformat": 4,
 "nbformat_minor": 2
}
